{
 "cells": [
  {
   "cell_type": "markdown",
   "metadata": {},
   "source": [
    "# <center>  Análise Exploratória - Dados de Hotéis"
   ]
  },
  {
   "cell_type": "markdown",
   "metadata": {},
   "source": [
    "<center><img src='https://i.imgur.com/CVogXrs.png'>"
   ]
  },
  {
   "cell_type": "markdown",
   "metadata": {},
   "source": [
    "# Introdução"
   ]
  },
  {
   "cell_type": "markdown",
   "metadata": {},
   "source": [
    "Você já se perguntou qual é a melhor época do ano para reservar um quarto de hotel? Ou a duração ideal da estadia para obter a melhor diária? E se quisesse prever se um hotel provavelmente receberia um número desproporcionalmente alto de solicitações especiais?\n",
    "Bem, essa análise tem como propósito te ajudar, apesar de existirem infinitas possibilidades para essa análise.\n",
    "\n",
    "A base de dados a ser utilizada será a \"[Hotel Booking Demand](https://www.kaggle.com/datasets/jessemostipak/hotel-booking-demand)\". Este conjunto de dados contém informações de reserva para um hotel urbano e um hotel resort e inclui informações como quando a reserva foi feita, duração da estadia, número de adultos, crianças e/ou bebês e o número de vagas de estacionamento disponíveis, entre outras coisas.\n",
    "\n",
    "Todas as informações de identificação pessoal foram removidas dos dados. \n",
    "\n",
    "Para começar nossa análise, criaremos uma base de dados para inserção do Dataset e consulta do mesmo. Utilizando o banco de dados PostgreSQL, o versionador de base DBeaver e a biblioteca Pandas do Python, para a limpeza e tratamento de dados faltantes. Caso você queira conferir os dados pessoalmente, é fundamental que você possua os mesmos instalados e configurados.\n",
    "\n",
    "Abaixo, você poderá notar o banco de dados conectado, e o nosso dataset importado com o nome de \"base\", nele contemos todas as informações necessárias para a análise. \n",
    "\n",
    "<center><img src ='https://i.imgur.com/axxBBM6.png' width='300'>"
   ]
  },
  {
   "cell_type": "markdown",
   "metadata": {},
   "source": [
    "# Limpeza e Tratamento dos Dados"
   ]
  },
  {
   "cell_type": "markdown",
   "metadata": {},
   "source": [
    "A primeira parte consiste na limpeza e tratamento dos dados, para este, foi utilizada a lib Pandas, do Python. Uma das coisas que notei, foi a ausência de uma coluna correspondente a idade dos hóspedes, a fim de estudo, incluí uma, com números gerados aleatoriamente dentro do intervalo mencionado. \n",
    "\n",
    "Dentro deste mesmo repositório, você pode encontrar o notebook utilizado para tal fim."
   ]
  },
  {
   "cell_type": "markdown",
   "metadata": {},
   "source": [
    "# Query #1"
   ]
  },
  {
   "cell_type": "markdown",
   "metadata": {},
   "source": [
    "Para início de análise, contaremos quais os países com os maiores números de reserva:\n",
    "\n",
    "```\n",
    "select distinct\n",
    "\tcountry,\n",
    "\tcount(0) as bookings\n",
    "from base\n",
    "group by country\n",
    "order by bookings desc\n",
    "limit 5;\n",
    "```\n",
    "<center><img src='https://i.imgur.com/mDE15mx.png' width='400'>"
   ]
  },
  {
   "cell_type": "markdown",
   "metadata": {},
   "source": [
    "Podemos perceber que a maioria das reservas acontece em\n",
    "território Europeu, com Portugal liderando.\n",
    "Isso pode ocorrer por Portugal ser parte da União Europeia,\n",
    "facilitando o turismo por toda a Europa a partir desse ponto, uma vez que a viagem entre esses países é livre de burocracias de migração.\n",
    "\n"
   ]
  },
  {
   "cell_type": "markdown",
   "metadata": {},
   "source": [
    "# Query #2"
   ]
  },
  {
   "cell_type": "markdown",
   "metadata": {},
   "source": [
    "Agora veremos qual país se destacou nessa questão no período de Carnaval, que compreende o mês de Fevereiro:"
   ]
  },
  {
   "cell_type": "markdown",
   "metadata": {},
   "source": [
    "```\n",
    "select\n",
    "\tcountry,\n",
    "\tcount(0) as bookings\n",
    "from base\n",
    "where arrival_date_month ~ 'February'\n",
    "group by country\n",
    "order by bookings desc\n",
    "limit 1;\n",
    "\n",
    "```\n",
    "\n",
    "<center><img src='https://i.imgur.com/usyVdYa.png' width='400'>"
   ]
  },
  {
   "cell_type": "markdown",
   "metadata": {},
   "source": [
    "O local mais procurado no carnaval foi também Portugal,\n",
    "visto que o lugar é um ponto turístico popular em qualquer\n",
    "época do ano, não seria diferente em Fevereiro. Apesar dos\n",
    "motivos citados acima, Portugal está em 14º lugar no \n",
    "ranking de países com mais Hotéis de toda a Europa (como relatado na [fonte](https://www.nationmaster.com/nmx/ranking/number-of-hotels-establishments) abaixo) o \n",
    "que realmente pode indicar ocorrer Overbooking nesses\n",
    "locais.\n",
    "\n",
    "<center><img src='https://i.imgur.com/dkS3YHu.png'>"
   ]
  },
  {
   "cell_type": "markdown",
   "metadata": {},
   "source": [
    "# Query #3"
   ]
  },
  {
   "cell_type": "markdown",
   "metadata": {},
   "source": [
    "Vejamos agora quantos cancelamentos foram obtidos por cada tipo de hotel disponível na base:\n",
    "\n",
    "```\n",
    "select\n",
    "\thotel,\n",
    "\tcount(is_canceled) \n",
    "from base \n",
    "group by hotel;\n",
    "```\n",
    "\n",
    "<center><img src='https://i.imgur.com/jwggHly.png' width='300'>"
   ]
  },
  {
   "cell_type": "markdown",
   "metadata": {},
   "source": [
    "Podemos perceber que a maior porcentagem\n",
    "de cancelamentos ocorre em hotéis urbanos.\n",
    "\n",
    "\n",
    "Porém, isso pode ser porque temos mais\n",
    "amostras desse tipo de hotel. Para um resultado\n",
    "mais preciso, precisamos verificar as porcentagens\n",
    "em uma amostra igual de ambos os tipos.\n",
    "Além disso, nota-se que existe um número\n",
    "elevado de hospedagens nesse tipo de hotel,\n",
    "o que nos leva a concluir que possivelmente\n",
    "acontece \"overbooking\" nesses hotéis."
   ]
  },
  {
   "cell_type": "markdown",
   "metadata": {},
   "source": [
    "# Query #4"
   ]
  },
  {
   "cell_type": "markdown",
   "metadata": {},
   "source": [
    "Para esta consulta, na limpeza foram criadas as colunas referente as idades dos hóspedes, e, junto a ela, foi criada também uma coluna que remete a soma de todas as idades, a fim de facilitar as consultas e análises posteriores.\n",
    "\n",
    "Aqui iremos verificar qual a média de idades dos hóspedes da Alemanha, no último ano:"
   ]
  },
  {
   "cell_type": "markdown",
   "metadata": {},
   "source": [
    "```\n",
    "select\n",
    "\tavg(all_sum_column)\n",
    "from base\n",
    "where country = 'DEU'\n",
    "and arrival_date_year = '2017';\n",
    "```"
   ]
  },
  {
   "cell_type": "markdown",
   "metadata": {},
   "source": [
    "<center><img src='https://i.imgur.com/CfHCP4t.png' width='150'>"
   ]
  },
  {
   "cell_type": "markdown",
   "metadata": {},
   "source": [
    "Notamos que a média de todas as idades foi 42, o que indica pouca hospedagem de crianças e bebês. Baseado nisso, percebemos que falta algum atrativo familiar para atrair mais hóspedes do tipo."
   ]
  },
  {
   "cell_type": "markdown",
   "metadata": {},
   "source": [
    "# Conclusão"
   ]
  },
  {
   "cell_type": "markdown",
   "metadata": {},
   "source": [
    "- Apesar do case não indicar o uso de Python como fundamental, no final das contas vimos que se faz necessário, uma vez que dados podem conter falhas, e para não enviesar a pesquisa, é necessário tratá-los.\n",
    "- Conseguimos analisar os dados de forma quase que precisa, dadas as informações disponibilizadas.\n",
    "- De uma perspectiva de negócios, caso um booking seja sinalizado como \"cancelado\", deveríamos mandar um e-mail pro cliente para confirmar o cancelamento. Isso iria garantir que o número de agendamentos falsos diminua, e passaria mais credibilidade para o cliente.\n",
    "- Já que estamos trabalhando com uma quantidade limitada de dados, existe uma grande chance dessas análises decaírem no futuro. Em contraparte, o remodelamento desses dados e a configuração de um novo modelo pode ser exigida.\n",
    "- Na questão de produção, a ingestão desse tipo de dado pode ser automatizado pelo hotel, para agilizar o setor de dados da empresa, e garantir maior precisão nas análises. \n",
    "\n"
   ]
  }
 ],
 "metadata": {
  "kernelspec": {
   "display_name": "Python 3.10.5 64-bit",
   "language": "python",
   "name": "python3"
  },
  "language_info": {
   "name": "python",
   "version": "3.10.5"
  },
  "orig_nbformat": 4,
  "vscode": {
   "interpreter": {
    "hash": "a484a1ae300df675bc908d35ac84902870e419dc327b3aa2cc03e2fe55a05ea4"
   }
  }
 },
 "nbformat": 4,
 "nbformat_minor": 2
}
