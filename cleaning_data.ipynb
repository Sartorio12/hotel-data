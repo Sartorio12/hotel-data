{
 "cells": [
  {
   "cell_type": "code",
   "execution_count": 130,
   "metadata": {},
   "outputs": [],
   "source": [
    "import pandas as pd\n",
    "import numpy as np"
   ]
  },
  {
   "cell_type": "code",
   "execution_count": 131,
   "metadata": {},
   "outputs": [],
   "source": [
    "df = pd.read_csv('Base - Desafio Dados.csv',sep = ';')"
   ]
  },
  {
   "cell_type": "code",
   "execution_count": 133,
   "metadata": {},
   "outputs": [],
   "source": [
    "df['ages_adult_sum'] =  df['adults'] * np.random.randint(10,35 ,df.shape[0])\n",
    "df['ages_children_sum'] =  df['children'] * np.random.randint(2,10 ,df.shape[0])\n",
    "df['ages_babies_sum'] =  df['babies'] * np.random.randint(0,1 , df.shape[0])"
   ]
  },
  {
   "cell_type": "code",
   "execution_count": 134,
   "metadata": {},
   "outputs": [],
   "source": [
    "df['ages_children_sum'] = df['ages_children_sum'].fillna(0)\n",
    "df['ages_children_sum'] = df['ages_children_sum'].astype('int64')\n",
    "df['all_sum_column'] = df['ages_adult_sum'] + df['ages_children_sum'] + df['ages_babies_sum']"
   ]
  },
  {
   "cell_type": "code",
   "execution_count": 139,
   "metadata": {},
   "outputs": [],
   "source": [
    "df.to_csv('Base - Desafio_Dados_New.csv', sep = ';', index=False)"
   ]
  }
 ],
 "metadata": {
  "kernelspec": {
   "display_name": "Python 3.10.5 64-bit",
   "language": "python",
   "name": "python3"
  },
  "language_info": {
   "codemirror_mode": {
    "name": "ipython",
    "version": 3
   },
   "file_extension": ".py",
   "mimetype": "text/x-python",
   "name": "python",
   "nbconvert_exporter": "python",
   "pygments_lexer": "ipython3",
   "version": "3.10.5"
  },
  "orig_nbformat": 4,
  "vscode": {
   "interpreter": {
    "hash": "a484a1ae300df675bc908d35ac84902870e419dc327b3aa2cc03e2fe55a05ea4"
   }
  }
 },
 "nbformat": 4,
 "nbformat_minor": 2
}
